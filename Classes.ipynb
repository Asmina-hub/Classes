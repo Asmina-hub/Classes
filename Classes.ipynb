{
 "cells": [
  {
   "cell_type": "markdown",
   "metadata": {},
   "source": [
    "Classes"
   ]
  },
  {
   "cell_type": "code",
   "execution_count": 24,
   "metadata": {},
   "outputs": [
    {
     "name": "stdout",
     "output_type": "stream",
     "text": [
      "Alec duglou was born on1894\n",
      "126\n"
     ]
    }
   ],
   "source": [
    "class Person:\n",
    "    def __init__(self,name,surname,year):\n",
    "        self.name=name\n",
    "        self.surname=surname\n",
    "        self.year=year\n",
    "    def age(self,currentyear):\n",
    "        return(currentyear-self.year)\n",
    "    def __str__(self):\n",
    "        return\"{} {} was born on{}\".format(self.name,self.surname,self.year)\n",
    "alec= Person(\"Alec\",\"duglou\",1894)\n",
    "print(alec)\n",
    "print(alec.age(2020))\n",
    "    "
   ]
  },
  {
   "cell_type": "code",
   "execution_count": 18,
   "metadata": {},
   "outputs": [
    {
     "name": "stdout",
     "output_type": "stream",
     "text": [
      "charlie doby was born on1964\n",
      "1\n",
      "True\n",
      "True\n",
      "False\n"
     ]
    }
   ],
   "source": [
    "#Inheritance\n",
    "class Student(Person):\n",
    "    def __init__(self,student_id,*args):\n",
    "        super(Student,self).__init__(*args)\n",
    "        self._student_id=student_id\n",
    "Charlie=Student(1,\"charlie\",\"doby\",1964)\n",
    "smith=Person(\"tony\",\"helio\",1999)\n",
    "print(Charlie)\n",
    "print(Charlie._student_id)\n",
    "print(isinstance(Charlie,Person))\n",
    "print(isinstance(Charlie,object))\n",
    "print(isinstance(smith,Student))"
   ]
  },
  {
   "cell_type": "code",
   "execution_count": 35,
   "metadata": {},
   "outputs": [
    {
     "name": "stdout",
     "output_type": "stream",
     "text": [
      "charlie doby was born on1964\n",
      "1\n",
      "hope fine\n"
     ]
    }
   ],
   "source": [
    "#Overriding\n",
    "class Student(Person):\n",
    "    def __init__(self,student_id,*args):\n",
    "        super(Student,self).__init__(*args)\n",
    "        self._student_id=student_id\n",
    "    def age(self):\n",
    "        return(\"I am the overriding fuction of the parent fuction named age\")\n",
    "    \n",
    "    \n",
    "Charlie=Student(1,\"charlie\",\"doby\",1964)\n",
    "print(Charlie)\n",
    "print(Charlie._student_id)\n",
    "print(Charlie.age())"
   ]
  },
  {
   "cell_type": "code",
   "execution_count": 34,
   "metadata": {},
   "outputs": [
    {
     "name": "stdout",
     "output_type": "stream",
     "text": [
      "Alec duglou was born on1894\n",
      "hope fine\n"
     ]
    }
   ],
   "source": [
    "class Person:\n",
    "    def __init__(self,name,surname,year):\n",
    "        self.name=name\n",
    "        self.surname=surname\n",
    "        self.year=year\n",
    "    def age(self):\n",
    "        return(\"hope fine\")\n",
    "    def __str__(self):\n",
    "        return\"{} {} was born on{}\".format(self.name,self.surname,self.year)\n",
    "alec= Person(\"Alec\",\"duglou\",1894)\n",
    "print(alec)\n",
    "print(alec.age())\n",
    "    "
   ]
  },
  {
   "cell_type": "code",
   "execution_count": null,
   "metadata": {},
   "outputs": [],
   "source": []
  }
 ],
 "metadata": {
  "kernelspec": {
   "display_name": "Python 3",
   "language": "python",
   "name": "python3"
  },
  "language_info": {
   "codemirror_mode": {
    "name": "ipython",
    "version": 3
   },
   "file_extension": ".py",
   "mimetype": "text/x-python",
   "name": "python",
   "nbconvert_exporter": "python",
   "pygments_lexer": "ipython3",
   "version": "3.7.1"
  }
 },
 "nbformat": 4,
 "nbformat_minor": 2
}
